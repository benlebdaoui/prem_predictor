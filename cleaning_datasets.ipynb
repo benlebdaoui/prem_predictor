{
 "cells": [
  {
   "cell_type": "code",
   "execution_count": 13,
   "id": "b943320a-3ed7-4809-98b9-42d99ec38857",
   "metadata": {},
   "outputs": [
    {
     "name": "stdout",
     "output_type": "stream",
     "text": [
      "   Unnamed: 0               team        opponent  gf  ga  match_result  \\\n",
      "0           0          Brentford         Arsenal   2   0             1   \n",
      "1           1  Manchester United           Leeds   5   1             1   \n",
      "2           2            Burnley        Brighton   1   2            -1   \n",
      "3           3            Chelsea  Crystal Palace   3   0             1   \n",
      "4           4            Everton     Southampton   3   1             1   \n",
      "\n",
      "   head_to_head  head_to_head_goals  \n",
      "0     -0.500000                0.75  \n",
      "1      0.500000                3.50  \n",
      "2     -0.333333                1.00  \n",
      "3      1.000000                2.25  \n",
      "4      0.000000                2.00  \n",
      "          Team  Avg Goals/Game  Avg Goals Against/Game  Avg Shots/Game  \\\n",
      "0      Arsenal            1.85                    1.10            15.3   \n",
      "1  Aston Villa            1.65                    1.40            12.5   \n",
      "2  Bournemouth            1.30                    1.60            10.0   \n",
      "3    Brentford            1.55                    1.35            11.2   \n",
      "4     Brighton            1.80                    1.25            13.8   \n",
      "\n",
      "   Recent Form  \n",
      "0         0.38  \n",
      "1         0.12  \n",
      "2        -0.15  \n",
      "3         0.10  \n",
      "4         0.28  \n"
     ]
    }
   ],
   "source": [
    "import pandas as pd\n",
    "\n",
    "file_path1 = r\"C:\\Users\\lebda\\Prem_Predictor_Project\\head_to_head_21-24.csv\"\n",
    "file_path2 = r\"C:\\Users\\lebda\\Prem_Predictor_Project\\prem_2021-2024_stats.csv\"\n",
    "\n",
    "df1 = pd.read_csv(file_path1)\n",
    "df2 = pd.read_csv(file_path2)\n",
    "\n",
    "team_name_mapping = {\n",
    "    \"Arsenal\": \"Arsenal\",\n",
    "    \"Aston Villa\": \"Aston Villa\",\n",
    "    \"Bournemouth\": \"Bournemouth\",\n",
    "    \"Brentford\": \"Brentford\",\n",
    "    \"Brighton\": \"Brighton\",\n",
    "    \"Burnley\": \"Burnley\",\n",
    "    \"Chelsea\": \"Chelsea\",\n",
    "    \"Crystal Palace\": \"Crystal Palace\",\n",
    "    \"Leeds United\": \"Leeds\",\n",
    "    \"Fulham\": \"Fulham\",\n",
    "    \"Norwich City\": \"Norwich\",\n",
    "    \"Luton Town\": \"Luton Town\",\n",
    "    \"Man City\": \"Manchester City\",\n",
    "    \"Man United\": \"Manchester United\",\n",
    "    \"Newcastle\": \"Newcastle United\",\n",
    "    \"Nottingham\": \"Nottingham Forest\",\n",
    "    \"Sheffield Unitetd\": \"Sheffield United\",\n",
    "    \"Tottenham\": \"Tottenham Hotspur\",\n",
    "    \"West Ham\": \"West Ham United\",\n",
    "    \"Wolves\": \"Wolverhampton\"\n",
    "}\n",
    "df1[\"team\"] = df1[\"team\"].replace(team_name_mapping)\n",
    "df1[\"opponent\"] = df1[\"opponent\"].replace(team_name_mapping)\n",
    "\n",
    "df2[\"Team\"] = df2[\"Team\"].replace(team_name_mapping)\n",
    "\n",
    "\n",
    "print(df1.head())\n",
    "print(df2.head())"
   ]
  },
  {
   "cell_type": "code",
   "execution_count": 14,
   "id": "f42a29b8-82c0-4f50-a569-eb9032f6d6b0",
   "metadata": {},
   "outputs": [],
   "source": [
    "df1.to_csv(\"head_to_head_21-24.csv\", index=False)\n",
    "df2.to_csv(\"prem_2021-2024_stats.csv\", index=False)"
   ]
  },
  {
   "cell_type": "code",
   "execution_count": null,
   "id": "b63f1bdd-cbc1-48a5-8c5f-2abdcec29870",
   "metadata": {},
   "outputs": [],
   "source": []
  }
 ],
 "metadata": {
  "kernelspec": {
   "display_name": "Python 3 (ipykernel)",
   "language": "python",
   "name": "python3"
  },
  "language_info": {
   "codemirror_mode": {
    "name": "ipython",
    "version": 3
   },
   "file_extension": ".py",
   "mimetype": "text/x-python",
   "name": "python",
   "nbconvert_exporter": "python",
   "pygments_lexer": "ipython3",
   "version": "3.13.1"
  }
 },
 "nbformat": 4,
 "nbformat_minor": 5
}
