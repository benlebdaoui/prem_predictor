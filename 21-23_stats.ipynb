{
 "cells": [
  {
   "cell_type": "code",
   "execution_count": 1,
   "id": "e23ba992-3821-4922-b25d-2514e115af3c",
   "metadata": {},
   "outputs": [
    {
     "name": "stdout",
     "output_type": "stream",
     "text": [
      "         Date   Time        HomeTeam     AwayTeam  FTHG  FTAG FTR  HTHG  HTAG  \\\n",
      "0  05/08/2022  20:00  Crystal Palace      Arsenal     0     2   A     0     1   \n",
      "1  06/08/2022  12:30          Fulham    Liverpool     2     2   D     1     0   \n",
      "2  06/08/2022  15:00     Bournemouth  Aston Villa     2     0   H     1     0   \n",
      "3  06/08/2022  15:00           Leeds       Wolves     2     1   H     1     1   \n",
      "4  06/08/2022  15:00       Newcastle   Nottingham     2     0   H     0     0   \n",
      "\n",
      "  HTR  ... HST  AST  HF  AF  HC  AC  HY  AY  HR  AR  \n",
      "0   A  ...   2    2  16  11   3   5   1   2   0   0  \n",
      "1   H  ...   3    4   7   9   4   4   2   0   0   0  \n",
      "2   H  ...   3    2  18  16   5   5   3   3   0   0  \n",
      "3   D  ...   4    6  13   9   6   4   2   0   0   0  \n",
      "4   D  ...  10    0   9  14  11   1   0   3   0   0  \n",
      "\n",
      "[5 rows x 23 columns]\n",
      "         Date    HomeTeam        AwayTeam  FTHG  FTAG FTR  HTHG  HTAG HTR  \\\n",
      "0  13/08/2021   Brentford         Arsenal     2     0   H     1     0   H   \n",
      "1  14/08/2021  Man United           Leeds     5     1   H     1     0   H   \n",
      "2  14/08/2021     Burnley        Brighton     1     2   A     1     0   H   \n",
      "3  14/08/2021     Chelsea  Crystal Palace     3     0   H     2     0   H   \n",
      "4  14/08/2021     Everton     Southampton     3     1   H     0     1   A   \n",
      "\n",
      "     Referee  ...  HST  AST  HF  AF  HC  AC  HY  AY  HR  AR  \n",
      "0   M Oliver  ...    3    4  12   8   2   5   0   0   0   0  \n",
      "1  P Tierney  ...    8    3  11   9   5   4   1   2   0   0  \n",
      "2    D Coote  ...    3    8  10   7   7   6   2   1   0   0  \n",
      "3     J Moss  ...    6    1  15  11   5   2   0   0   0   0  \n",
      "4   A Madley  ...    6    3  13  15   6   8   2   0   0   0  \n",
      "\n",
      "[5 rows x 22 columns]\n"
     ]
    }
   ],
   "source": [
    "import pandas as pd \n",
    "\n",
    "file_path1 = r\"C:\\Users\\lebda\\Downloads\\epl_results_2022-23.csv\"\n",
    "file_path2 = r\"C:\\Users\\lebda\\Downloads\\soccer21-22.csv\"\n",
    "\n",
    "df1 = pd.read_csv(file_path1)\n",
    "df2 = pd.read_csv(file_path2)\n",
    "\n",
    "print(df1.head())\n",
    "print(df2.head()) #initialize my two datasets and check if they are uploaded properly"
   ]
  },
  {
   "cell_type": "code",
   "execution_count": 18,
   "id": "a4112510-65ef-4a87-85ea-bb027417b249",
   "metadata": {},
   "outputs": [
    {
     "name": "stdout",
     "output_type": "stream",
     "text": [
      "         date   time        hometeam     awayteam  fthg  ftag ftr  hthg  htag  \\\n",
      "0  05/08/2022  20:00  Crystal Palace      Arsenal     0     2   A     0     1   \n",
      "1  06/08/2022  12:30          Fulham    Liverpool     2     2   D     1     0   \n",
      "2  06/08/2022  15:00     Bournemouth  Aston Villa     2     0   H     1     0   \n",
      "3  06/08/2022  15:00           Leeds       Wolves     2     1   H     1     1   \n",
      "4  06/08/2022  15:00       Newcastle   Nottingham     2     0   H     0     0   \n",
      "\n",
      "  htr  ... hst  ast  hf  af  hc  ac  hy  ay  hr  ar  \n",
      "0   A  ...   2    2  16  11   3   5   1   2   0   0  \n",
      "1   H  ...   3    4   7   9   4   4   2   0   0   0  \n",
      "2   H  ...   3    2  18  16   5   5   3   3   0   0  \n",
      "3   D  ...   4    6  13   9   6   4   2   0   0   0  \n",
      "4   D  ...  10    0   9  14  11   1   0   3   0   0  \n",
      "\n",
      "[5 rows x 23 columns]\n",
      "Index(['date', 'time', 'hometeam', 'awayteam', 'fthg', 'ftag', 'ftr', 'hs',\n",
      "       'as', 'hst', 'ast'],\n",
      "      dtype='object')\n"
     ]
    }
   ],
   "source": [
    "df1.columns = df1.columns.str.lower().str.replace(\" \", \"_\") #standardize column names\n",
    "df2.columns = df2.columns.str.lower().str.replace(\" \", \"_\")\n",
    "df_home = pd.concat([df1, df2], ignore_index=True) #combine into one dataset\n",
    "\n",
    "# save the merged dataset for future use\n",
    "df_home.to_csv(\"merged_dataset.csv\", index=False)\n",
    "\n",
    "print(df_home.head())\n",
    "df_home = df_home.drop(columns=['hthg', 'htag', 'htr', 'referee', 'hf', 'af', 'hy', 'ay', 'hr', 'ar', 'hc', 'ac'])#dont need\n",
    "print(df_home.columns) #check column names before changing them"
   ]
  },
  {
   "cell_type": "code",
   "execution_count": 19,
   "id": "8b6c39e7-42a3-45e6-8f0a-2ebfb479128a",
   "metadata": {},
   "outputs": [
    {
     "name": "stdout",
     "output_type": "stream",
     "text": [
      "Index(['date', 'time', 'team', 'opponent', 'gf', 'ga', 'result', 'sh',\n",
      "       'sh_against', 'sot', 'sot_against'],\n",
      "      dtype='object')\n"
     ]
    }
   ],
   "source": [
    "df_home = df_home.rename(columns={'date': 'date', \n",
    "                                 'time':'time', \n",
    "                                 'hometeam': 'team', \n",
    "                                 'awayteam': 'opponent', \n",
    "                                 'fthg': 'gf', \n",
    "                                 'ftag': 'ga', \n",
    "                                 'ftr': 'result',\n",
    "                                 'hs': 'sh',\n",
    "                                 'hst': 'sot',\n",
    "                                 'as': 'sh_against',\n",
    "                                 'ast': 'sot_against'})\n",
    "print(df_home.columns)\n",
    "                                 "
   ]
  },
  {
   "cell_type": "code",
   "execution_count": 20,
   "id": "208bf075-608f-463d-a937-82b4f06f45f8",
   "metadata": {},
   "outputs": [
    {
     "name": "stdout",
     "output_type": "stream",
     "text": [
      "         date   time            team     opponent  gf  ga result  sh  \\\n",
      "0  05/08/2022  20:00  Crystal Palace      Arsenal   0   2      A  10   \n",
      "1  06/08/2022  12:30          Fulham    Liverpool   2   2      D   9   \n",
      "2  06/08/2022  15:00     Bournemouth  Aston Villa   2   0      H   7   \n",
      "3  06/08/2022  15:00           Leeds       Wolves   2   1      H  12   \n",
      "4  06/08/2022  15:00       Newcastle   Nottingham   2   0      H  23   \n",
      "\n",
      "   sh_against  sot  sot_against venue  \n",
      "0          10    2            2  home  \n",
      "1          11    3            4  home  \n",
      "2          15    3            2  home  \n",
      "3          15    4            6  home  \n",
      "4           5   10            0  home  \n"
     ]
    }
   ],
   "source": [
    "#we need a column to determine home or away. to do that, we will change \"hometeam\" to \"team\", \"awayteam\" to \"opponent\", and set all the values for\n",
    "#the \"venue\" column to \"home\" then, create a copy of the dataset but with the teams' order swapped, and change all \"home\" to \"away\"\n",
    "df_home[\"venue\"] = \"home\"\n",
    "print(df_home.head())"
   ]
  },
  {
   "cell_type": "code",
   "execution_count": 21,
   "id": "7645c1fa-f609-447e-a03f-7b2051df17e3",
   "metadata": {},
   "outputs": [
    {
     "name": "stdout",
     "output_type": "stream",
     "text": [
      "         date   time            team     opponent  gf  ga  result  sh  \\\n",
      "0  05/08/2022  20:00  Crystal Palace      Arsenal   0   2      -1  10   \n",
      "1  06/08/2022  12:30          Fulham    Liverpool   2   2       0   9   \n",
      "2  06/08/2022  15:00     Bournemouth  Aston Villa   2   0       1   7   \n",
      "3  06/08/2022  15:00           Leeds       Wolves   2   1       1  12   \n",
      "4  06/08/2022  15:00       Newcastle   Nottingham   2   0       1  23   \n",
      "\n",
      "   sh_against  sot  sot_against venue  \n",
      "0          10    2            2  home  \n",
      "1          11    3            4  home  \n",
      "2          15    3            2  home  \n",
      "3          15    4            6  home  \n",
      "4           5   10            0  home  \n"
     ]
    }
   ],
   "source": [
    "def match_result(row):\n",
    "    if row[\"result\"] == 'H':\n",
    "        return 1\n",
    "    elif row[\"result\"] == 'A':\n",
    "        return -1\n",
    "    else:\n",
    "        return 0\n",
    "df_home[\"result\"] = df_home.apply(match_result, axis=1)\n",
    "print(df_home.head())"
   ]
  },
  {
   "cell_type": "code",
   "execution_count": 51,
   "id": "ca72b19c-71c7-4d13-9936-691456cc0a29",
   "metadata": {},
   "outputs": [
    {
     "name": "stdout",
     "output_type": "stream",
     "text": [
      "         date   time         team        opponent  gf  ga  result  sh  \\\n",
      "0  05/08/2022  20:00      Arsenal  Crystal Palace   2   0       1  10   \n",
      "1  06/08/2022  12:30    Liverpool          Fulham   2   2       0  11   \n",
      "2  06/08/2022  15:00  Aston Villa     Bournemouth   0   2      -1  15   \n",
      "3  06/08/2022  15:00       Wolves           Leeds   1   2      -1  15   \n",
      "4  06/08/2022  15:00   Nottingham       Newcastle   0   2      -1   5   \n",
      "\n",
      "   sh_against  sot  sot_against venue  \n",
      "0           2    2            2  away  \n",
      "1           2    4            3  away  \n",
      "2           0    2            3  away  \n",
      "3           1    6            4  away  \n",
      "4           0    0           10  away  \n"
     ]
    }
   ],
   "source": [
    "df_away = df_home.copy()\n",
    "\n",
    "df_away['team'], df_away['opponent'] = df_away['opponent'],df_away['team']\n",
    "df_away['gf'], df_away['ga'] = df_away['ga'], df_away['gf']\n",
    "df_away['sh'], df_away['sh_against'] = df_away['sh_against'], df_away['gf']\n",
    "df_away['sot'], df_away['sot_against'] = df_away['sot_against'], df_away['sot']\n",
    "\n",
    "df_away['venue'] = 'away'\n",
    "\n",
    "df_away[\"result\"] = df_away[\"result\"].map({-1:1, 1:-1, 0:0})\n",
    "\n",
    "print(df_away.head())"
   ]
  },
  {
   "cell_type": "code",
   "execution_count": 53,
   "id": "5c2865fa-f1eb-4e84-8ada-a7178ad6ebba",
   "metadata": {},
   "outputs": [
    {
     "name": "stdout",
     "output_type": "stream",
     "text": [
      "         date   time            team     opponent  gf  ga  result  sh  \\\n",
      "0  05/08/2022  20:00  Crystal Palace      Arsenal   0   2      -1  10   \n",
      "1  06/08/2022  12:30          Fulham    Liverpool   2   2       0   9   \n",
      "2  06/08/2022  15:00     Bournemouth  Aston Villa   2   0       1   7   \n",
      "3  06/08/2022  15:00           Leeds       Wolves   2   1       1  12   \n",
      "4  06/08/2022  15:00       Newcastle   Nottingham   2   0       1  23   \n",
      "\n",
      "   sh_against  sot  sot_against venue  \n",
      "0          10    2            2  home  \n",
      "1          11    3            4  home  \n",
      "2          15    3            2  home  \n",
      "3          15    4            6  home  \n",
      "4           5   10            0  home               date time         team        opponent  gf  ga  result  sh  \\\n",
      "1515  22/05/2022  NaN   Man United  Crystal Palace   0   1      -1  10   \n",
      "1516  22/05/2022  NaN  Southampton       Leicester   1   4      -1   7   \n",
      "1517  22/05/2022  NaN       Wolves       Liverpool   1   3      -1   7   \n",
      "1518  22/05/2022  NaN  Aston Villa        Man City   2   3      -1   4   \n",
      "1519  22/05/2022  NaN    Tottenham         Norwich   5   0       1  19   \n",
      "\n",
      "      sh_against  sot  sot_against venue  \n",
      "1515           0    4            3  away  \n",
      "1516           1    2            6  away  \n",
      "1517           1    5            8  away  \n",
      "1518           2    2            5  away  \n",
      "1519           5   13            0  away  \n"
     ]
    }
   ],
   "source": [
    "df = pd.concat([df_home, df_away], ignore_index=True) #combine home and away into one set\n",
    "\n",
    "df.to_csv(\"merged_dataset.csv\", index=False)\n",
    "\n",
    "print(df.head(), df.tail())"
   ]
  },
  {
   "cell_type": "code",
   "execution_count": 54,
   "id": "771449f9-c89e-4737-a9a2-a5edb480b694",
   "metadata": {},
   "outputs": [
    {
     "name": "stdout",
     "output_type": "stream",
     "text": [
      "Index(['date', 'time', 'team', 'opponent', 'gf', 'ga', 'result', 'sh',\n",
      "       'sh_against', 'sot', 'sot_against', 'venue'],\n",
      "      dtype='object')\n"
     ]
    }
   ],
   "source": [
    "print(df.columns)"
   ]
  },
  {
   "cell_type": "code",
   "execution_count": 56,
   "id": "3dd294a1-8fd5-46b7-8726-db7f293cf84b",
   "metadata": {},
   "outputs": [
    {
     "name": "stdout",
     "output_type": "stream",
     "text": [
      "Index(['date', 'time', 'team', 'opponent', 'gf', 'ga', 'result', 'sh', 'sot',\n",
      "       'venue'],\n",
      "      dtype='object')\n"
     ]
    }
   ],
   "source": [
    "df.drop(columns=[\"sh_against\",\"sot_against\"],inplace= True)\n",
    "print(df.columns)"
   ]
  },
  {
   "cell_type": "code",
   "execution_count": 57,
   "id": "5021647b-5bea-4d8f-88c5-f1019344d8ec",
   "metadata": {},
   "outputs": [],
   "source": [
    "df.to_csv(\"merged_dataset.csv\", index=False)"
   ]
  },
  {
   "cell_type": "code",
   "execution_count": 59,
   "id": "85d17caf-a975-4f05-b336-0fcfdc3e1d31",
   "metadata": {},
   "outputs": [
    {
     "name": "stdout",
     "output_type": "stream",
     "text": [
      "          date   time               team           opponent  gf  ga  result  \\\n",
      "0   05/08/2022  20:00     Crystal Palace            Arsenal   0   2      -1   \n",
      "1   06/08/2022  12:30             Fulham          Liverpool   2   2       0   \n",
      "2   06/08/2022  15:00        Bournemouth        Aston Villa   2   0       1   \n",
      "3   06/08/2022  15:00              Leeds      Wolverhampton   2   1       1   \n",
      "4   06/08/2022  15:00   Newcastle United  Nottingham Forest   2   0       1   \n",
      "5   06/08/2022  15:00  Tottenham Hotspur        Southampton   4   1       1   \n",
      "6   06/08/2022  17:30            Everton            Chelsea   0   1      -1   \n",
      "7   07/08/2022  14:00          Leicester          Brentford   2   2       0   \n",
      "8   07/08/2022  14:00  Manchester United           Brighton   1   2      -1   \n",
      "9   07/08/2022  16:30    West Ham United    Manchester City   0   2      -1   \n",
      "10  13/08/2022  12:30        Aston Villa            Everton   2   1       1   \n",
      "11  13/08/2022  15:00            Arsenal          Leicester   4   2       1   \n",
      "12  13/08/2022  15:00           Brighton   Newcastle United   0   0       0   \n",
      "13  13/08/2022  15:00    Manchester City        Bournemouth   4   0       1   \n",
      "14  13/08/2022  15:00        Southampton              Leeds   2   2       0   \n",
      "15  13/08/2022  15:00      Wolverhampton             Fulham   0   0       0   \n",
      "16  13/08/2022  17:30          Brentford  Manchester United   4   0       1   \n",
      "17  14/08/2022  14:00  Nottingham Forest    West Ham United   1   0       1   \n",
      "18  14/08/2022  16:30            Chelsea  Tottenham Hotspur   2   2       0   \n",
      "19  15/08/2022  20:00          Liverpool     Crystal Palace   1   1       0   \n",
      "\n",
      "    sh  sot venue  \n",
      "0   10    2  home  \n",
      "1    9    3  home  \n",
      "2    7    3  home  \n",
      "3   12    4  home  \n",
      "4   23   10  home  \n",
      "5   18    8  home  \n",
      "6    8    4  home  \n",
      "7   14    5  home  \n",
      "8   17    5  home  \n",
      "9    6    1  home  \n",
      "10  12    4  home  \n",
      "11  19    7  home  \n",
      "12  13    7  home  \n",
      "13  19    7  home  \n",
      "14  14    4  home  \n",
      "15   7    1  home  \n",
      "16  13    7  home  \n",
      "17  13    6  home  \n",
      "18  16    3  home  \n",
      "19  24    4  home  \n"
     ]
    }
   ],
   "source": [
    "team_name_mapping = {\n",
    "    \"Arsenal\": \"Arsenal\",\n",
    "    \"Aston Villa\": \"Aston Villa\",\n",
    "    \"Bournemouth\": \"Bournemouth\",\n",
    "    \"Brentford\": \"Brentford\",\n",
    "    \"Brighton\": \"Brighton\",\n",
    "    \"Burnley\": \"Burnley\",\n",
    "    \"Chelsea\": \"Chelsea\",\n",
    "    \"Crystal Palace\": \"Crystal Palace\",\n",
    "    \"Everton\": \"Everton\",\n",
    "    \"Fulham\": \"Fulham\",\n",
    "    \"Liverpool\": \"Liverpool\",\n",
    "    \"Luton Town\": \"Luton Town\",\n",
    "    \"Man City\": \"Manchester City\",\n",
    "    \"Man United\": \"Manchester United\",\n",
    "    \"Newcastle\": \"Newcastle United\",\n",
    "    \"Nottingham\": \"Nottingham Forest\",\n",
    "    \"Sheffield United\": \"Sheffield Unitetd\",\n",
    "    \"Tottenham\": \"Tottenham Hotspur\",\n",
    "    \"West Ham\": \"West Ham United\",\n",
    "    \"Wolves\": \"Wolverhampton\"\n",
    "}\n",
    "df[\"team\"] = df[\"team\"].replace(team_name_mapping)\n",
    "df[\"opponent\"] = df[\"opponent\"].replace(team_name_mapping)\n",
    "print(df.head(20))"
   ]
  },
  {
   "cell_type": "code",
   "execution_count": 60,
   "id": "2fb1af69-3e6b-4569-a447-f12d60f8cb75",
   "metadata": {},
   "outputs": [],
   "source": [
    "df.to_csv(\"merged_dataset.csv\", index=False)"
   ]
  },
  {
   "cell_type": "code",
   "execution_count": null,
   "id": "e13fe7ea-34dd-48e3-9b74-6db9a5dc0ed9",
   "metadata": {},
   "outputs": [],
   "source": []
  }
 ],
 "metadata": {
  "kernelspec": {
   "display_name": "Python 3 (ipykernel)",
   "language": "python",
   "name": "python3"
  },
  "language_info": {
   "codemirror_mode": {
    "name": "ipython",
    "version": 3
   },
   "file_extension": ".py",
   "mimetype": "text/x-python",
   "name": "python",
   "nbconvert_exporter": "python",
   "pygments_lexer": "ipython3",
   "version": "3.13.1"
  }
 },
 "nbformat": 4,
 "nbformat_minor": 5
}
