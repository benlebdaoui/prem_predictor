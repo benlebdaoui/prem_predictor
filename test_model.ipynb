{
 "cells": [
  {
   "cell_type": "code",
   "execution_count": 16,
   "id": "f2ef2f22-6070-46df-a6c2-92996cfba285",
   "metadata": {},
   "outputs": [
    {
     "name": "stdout",
     "output_type": "stream",
     "text": [
      "{'away_team': 'Fulham', 'home_team': 'Crystal Palace', 'prediction': 'Crystal Palace loses'}\n"
     ]
    }
   ],
   "source": [
    "import requests\n",
    "\n",
    "url = \"http://127.0.0.1:5000/predict\"\n",
    "headers = {\"Content-Type\": \"application/json\"}\n",
    "data = {\"home_team\": \"Crystal Palace\", \"away_team\": \"Fulham\"}\n",
    "\n",
    "response = requests.post(url, json=data, headers=headers)\n",
    "print(response.json())  # Should now work\n"
   ]
  },
  {
   "cell_type": "code",
   "execution_count": null,
   "id": "7301eec6-c9e8-4c6a-bf20-3833f436d073",
   "metadata": {},
   "outputs": [],
   "source": []
  }
 ],
 "metadata": {
  "kernelspec": {
   "display_name": "Python 3 (ipykernel)",
   "language": "python",
   "name": "python3"
  },
  "language_info": {
   "codemirror_mode": {
    "name": "ipython",
    "version": 3
   },
   "file_extension": ".py",
   "mimetype": "text/x-python",
   "name": "python",
   "nbconvert_exporter": "python",
   "pygments_lexer": "ipython3",
   "version": "3.13.1"
  }
 },
 "nbformat": 4,
 "nbformat_minor": 5
}
