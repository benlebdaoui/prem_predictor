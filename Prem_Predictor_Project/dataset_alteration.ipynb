{
 "cells": [
  {
   "cell_type": "code",
   "execution_count": 1,
   "id": "c75044e5-c235-40da-ae9d-0b2255cf09cf",
   "metadata": {},
   "outputs": [
    {
     "data": {
      "text/html": [
       "<div>\n",
       "<style scoped>\n",
       "    .dataframe tbody tr th:only-of-type {\n",
       "        vertical-align: middle;\n",
       "    }\n",
       "\n",
       "    .dataframe tbody tr th {\n",
       "        vertical-align: top;\n",
       "    }\n",
       "\n",
       "    .dataframe thead th {\n",
       "        text-align: right;\n",
       "    }\n",
       "</style>\n",
       "<table border=\"1\" class=\"dataframe\">\n",
       "  <thead>\n",
       "    <tr style=\"text-align: right;\">\n",
       "      <th></th>\n",
       "      <th>team</th>\n",
       "      <th>opponent</th>\n",
       "      <th>gf</th>\n",
       "      <th>ga</th>\n",
       "      <th>match_result</th>\n",
       "      <th>head_to_head</th>\n",
       "      <th>head_to_head_goals</th>\n",
       "    </tr>\n",
       "  </thead>\n",
       "  <tbody>\n",
       "  </tbody>\n",
       "</table>\n",
       "</div>"
      ],
      "text/plain": [
       "Empty DataFrame\n",
       "Columns: [team, opponent, gf, ga, match_result, head_to_head, head_to_head_goals]\n",
       "Index: []"
      ]
     },
     "execution_count": 1,
     "metadata": {},
     "output_type": "execute_result"
    }
   ],
   "source": [
    "import pandas as pd\n",
    "\n",
    "# Load head-to-head dataset\n",
    "df_h2h = pd.read_csv(\"head_to_head_stats.csv\")\n",
    "\n",
    "# Check Sheffield United vs. Manchester City\n",
    "df_h2h[(df_h2h[\"team\"] == \"Sheffield United\") & (df_h2h[\"opponent\"] == \"Manchester City\")]\n"
   ]
  },
  {
   "cell_type": "code",
   "execution_count": 2,
   "id": "3b2b2af1-fd9a-4ed7-a0e9-8aa1a337b2a3",
   "metadata": {},
   "outputs": [
    {
     "name": "stdout",
     "output_type": "stream",
     "text": [
      "Unique Teams in head_to_head_stats.csv:\n",
      "['Arsenal' 'AstonVilla' 'Bournemouth' 'Brentford' 'BrightonandHoveAlbion'\n",
      " 'Burnley' 'Chelsea' 'CrystalPalace' 'Everton' 'Fulham' 'Liverpool'\n",
      " 'LutonTown' 'ManchesterCity' 'ManchesterUnited' 'NewcastleUnited'\n",
      " 'NottinghamForest' 'SheffieldUnited' 'TottenhamHotspur' 'WestHamUnited'\n",
      " 'WolverhamptonWanderers']\n",
      "\n",
      "Unique Opponents in head_to_head_stats.csv:\n",
      "['Aston Villa' 'Bournemouth' 'Brentford' 'Brighton' 'Burnley' 'Chelsea'\n",
      " 'Crystal Palace' 'Everton' 'Fulham' 'Liverpool' 'Luton Town'\n",
      " 'Manchester City' 'Manchester Utd' 'Newcastle Utd' \"Nott'ham Forest\"\n",
      " 'Sheffield Utd' 'Tottenham' 'West Ham' 'Wolves' 'Arsenal']\n"
     ]
    }
   ],
   "source": [
    "import pandas as pd\n",
    "\n",
    "# Load the dataset\n",
    "df_h2h = pd.read_csv(\"head_to_head_stats.csv\")\n",
    "\n",
    "# Print unique team names\n",
    "print(\"Unique Teams in head_to_head_stats.csv:\")\n",
    "print(df_h2h[\"team\"].unique())\n",
    "\n",
    "print(\"\\nUnique Opponents in head_to_head_stats.csv:\")\n",
    "print(df_h2h[\"opponent\"].unique())\n"
   ]
  },
  {
   "cell_type": "code",
   "execution_count": 10,
   "id": "9a144924-4e72-4f6d-98a2-6d67374a4b61",
   "metadata": {},
   "outputs": [
    {
     "name": "stdout",
     "output_type": "stream",
     "text": [
      "Team names have been successfully standardized and saved!\n"
     ]
    }
   ],
   "source": [
    "import pandas as pd\n",
    "\n",
    "# Load the dataset\n",
    "df_h2h = pd.read_csv(\"head_to_head_stats.csv\")\n",
    "\n",
    "# Correct team name mapping to ensure exact matches\n",
    "team_name_mapping = {\n",
    "    \"Arsenal\": \"Arsenal\",\n",
    "    \"Aston Villa\": \"Aston Villa\",\n",
    "    \"Bournemouth\": \"Bournemouth\",\n",
    "    \"Brentford\": \"Brentford\",\n",
    "    \"Brighton & Hove Albion\": \"Brighton\",\n",
    "    \"Burnley\": \"Burnley\",\n",
    "    \"Chelsea\": \"Chelsea\",\n",
    "    \"Crystal Palace\": \"Crystal Palace\",\n",
    "    \"Everton\": \"Everton\",\n",
    "    \"Fulham\": \"Fulham\",\n",
    "    \"Liverpool\": \"Liverpool\",\n",
    "    \"Luton Town\": \"Luton Town\",\n",
    "    \"Manchester City\": \"Manchester City\",\n",
    "    \"Manchester United\": \"Manchester United\",\n",
    "    \"Newcastle Utd\": \"Newcastle United\",\n",
    "    \"Nott'ham Forest\": \"Nottingham Forest\",\n",
    "    \"Sheffield United\": \"Sheffield Unitetd\",\n",
    "    \"Tottenham\": \"Tottenham Hotspur\",\n",
    "    \"West Ham\": \"West Ham United\",\n",
    "    \"Wolves\": \"Wolverhampton\"\n",
    "}\n",
    "\n",
    "# Apply the mapping to BOTH \"team\" and \"opponent\" columns\n",
    "df_h2h[\"team\"] = df_h2h[\"team\"].replace(team_name_mapping)\n",
    "df_h2h[\"opponent\"] = df_h2h[\"opponent\"].replace(team_name_mapping)\n",
    "\n",
    "# Save the cleaned file\n",
    "df_h2h.to_csv(\"head_to_head_stats.csv\", index=False)\n",
    "print(\"Team names have been successfully standardized and saved!\")\n"
   ]
  },
  {
   "cell_type": "code",
   "execution_count": 11,
   "id": "31eefc56-af65-4fa5-8dc1-2536e1bcfac1",
   "metadata": {},
   "outputs": [
    {
     "name": "stdout",
     "output_type": "stream",
     "text": [
      "Unique Teams in head_to_head_stats.csv:\n",
      "['Arsenal' 'Aston Villa' 'Bournemouth' 'Brentford' 'Brighton' 'Burnley'\n",
      " 'Chelsea' 'Crystal Palace' 'Everton' 'Fulham' 'Liverpool' 'Luton Town'\n",
      " 'Manchester City' 'Manchester United' 'Newcastle Unitetd'\n",
      " 'Nottingham Forest' 'Sheffield Utd' 'Tottenham Hotspur' 'West Ham United'\n",
      " 'Wolverhampton']\n",
      "\n",
      "Unique Opponents in head_to_head_stats.csv:\n",
      "['Aston Villa' 'Bournemouth' 'Brentford' 'Brighton' 'Burnley' 'Chelsea'\n",
      " 'Crystal Palace' 'Everton' 'Fulham' 'Liverpool' 'Luton Town'\n",
      " 'Manchester City' 'Manchester United' 'Newcastle Unitetd'\n",
      " 'Nottingham Forest' 'Sheffield Utd' 'Tottenham Hotspur' 'West Ham United'\n",
      " 'Wolverhampton' 'Arsenal']\n"
     ]
    }
   ],
   "source": [
    "import pandas as pd\n",
    "\n",
    "# Load the dataset\n",
    "df_h2h = pd.read_csv(\"head_to_head_stats.csv\")\n",
    "\n",
    "# Print unique team names\n",
    "print(\"Unique Teams in head_to_head_stats.csv:\")\n",
    "print(df_h2h[\"team\"].unique())\n",
    "\n",
    "print(\"\\nUnique Opponents in head_to_head_stats.csv:\")\n",
    "print(df_h2h[\"opponent\"].unique())\n"
   ]
  },
  {
   "cell_type": "code",
   "execution_count": null,
   "id": "2d1305ca-b539-43f7-9cf1-45d6d7c684be",
   "metadata": {},
   "outputs": [],
   "source": []
  }
 ],
 "metadata": {
  "kernelspec": {
   "display_name": "Python 3 (ipykernel)",
   "language": "python",
   "name": "python3"
  },
  "language_info": {
   "codemirror_mode": {
    "name": "ipython",
    "version": 3
   },
   "file_extension": ".py",
   "mimetype": "text/x-python",
   "name": "python",
   "nbconvert_exporter": "python",
   "pygments_lexer": "ipython3",
   "version": "3.13.1"
  }
 },
 "nbformat": 4,
 "nbformat_minor": 5
}
