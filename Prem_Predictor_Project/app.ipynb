{
 "cells": [
  {
   "cell_type": "code",
   "execution_count": 1,
   "id": "1b748887-82c3-42a6-96db-09c94e442315",
   "metadata": {},
   "outputs": [
    {
     "name": "stdout",
     "output_type": "stream",
     "text": [
      "✅ Flask is starting...\n",
      "✅ Registered Routes:\n",
      "/static/<path:filename>\n",
      "/predict\n",
      "/routes\n",
      " * Serving Flask app '__main__'\n",
      " * Debug mode: on\n"
     ]
    },
    {
     "name": "stderr",
     "output_type": "stream",
     "text": [
      "WARNING: This is a development server. Do not use it in a production deployment. Use a production WSGI server instead.\n",
      " * Running on http://127.0.0.1:5000\n",
      "Press CTRL+C to quit\n",
      " * Restarting with stat\n"
     ]
    },
    {
     "ename": "SystemExit",
     "evalue": "1",
     "output_type": "error",
     "traceback": [
      "An exception has occurred, use %tb to see the full traceback.\n",
      "\u001b[1;31mSystemExit\u001b[0m\u001b[1;31m:\u001b[0m 1\n"
     ]
    },
    {
     "name": "stderr",
     "output_type": "stream",
     "text": [
      "C:\\Users\\lebda\\AppData\\Local\\Programs\\Python\\Python313\\Lib\\site-packages\\IPython\\core\\interactiveshell.py:3585: UserWarning: To exit: use 'exit', 'quit', or Ctrl-D.\n",
      "  warn(\"To exit: use 'exit', 'quit', or Ctrl-D.\", stacklevel=1)\n"
     ]
    }
   ],
   "source": [
    "from flask import Flask, request, jsonify\n",
    "import pandas as pd\n",
    "import joblib\n",
    "\n",
    "app = Flask(__name__)\n",
    "\n",
    "\n",
    "with open(\"match_predictor.pkl\", \"rb\") as model_file:\n",
    "    model = joblib.load(model_file)\n",
    "\n",
    "team_stats = pd.read_csv(\"premier_league_2023_24.csv\")  # Team statistics\n",
    "head_to_head = pd.read_csv(\"head_to_head_stats.csv\")  # Head-to-head stats\n",
    "\n",
    "def get_team_stats(team_name):\n",
    "    row = team_stats[team_stats[\"team\"] == team_name]\n",
    "    return row.iloc[0] if not row.empty else None\n",
    "\n",
    "def get_head_to_head(home_team, away_team):\n",
    "    row = head_to_head[(head_to_head[\"team\"] == home_team) & (head_to_head[\"opponent\"] == away_team)]\n",
    "    return row.iloc[0] if not row.empty else {\"head_to_head\": 0, \"head_to_head_goals\": 0}\n",
    "\n",
    "# API endpoint for match prediction\n",
    "@app.route(\"/predict\", methods=[\"POST\"])\n",
    "def predict():\n",
    "    data = request.json\n",
    "    home_team = data.get(\"home_team\")\n",
    "    away_team = data.get(\"away_team\")\n",
    "\n",
    "    home_stats = get_team_stats(home_team)\n",
    "    away_stats = get_team_stats(away_team)\n",
    "    h2h_stats = get_head_to_head(home_team, away_team)\n",
    "\n",
    "    if home_stats is None or away_stats is None:\n",
    "        return jsonify({\"error\": \"Invalid team name\"}), 400\n",
    "\n",
    "    # Prepare input features\n",
    "    features = [\n",
    "        home_stats[\"recent_form\"], home_stats[\"avg_goals\"], home_stats[\"avg_goals_against\"],\n",
    "        home_stats[\"avg_shots\"], home_stats[\"avg_possession\"], h2h_stats[\"head_to_head\"],\n",
    "        h2h_stats[\"head_to_head_goals\"], away_stats[\"opponent_encoded\"]\n",
    "    ]\n",
    "\n",
    "    # Make prediction\n",
    "    prediction = model.predict([features])[0]\n",
    "    result_mapping = {1: \"Win\", 0: \"Draw\", -1: \"Loss\"}\n",
    "    prediction_text = result_mapping.get(prediction, \"Unknown\")\n",
    "\n",
    "    return jsonify({\"home_team\": home_team, \"away_team\": away_team, \"prediction\": prediction_text})\n",
    "\n",
    "\n",
    "@app.route(\"/routes\", methods=[\"GET\"])\n",
    "def show_routes():\n",
    "    return jsonify([str(rule) for rule in app.url_map.iter_rules()])\n",
    "    \n",
    "# Run Flask app\n",
    "if __name__ == \"__main__\":\n",
    "    print(\"✅ Flask is starting...\")\n",
    "    # Debugging: Print all registered routes when Flask starts\n",
    "    print(\"✅ Registered Routes:\")\n",
    "    for rule in app.url_map.iter_rules():\n",
    "        print(rule)\n",
    "\n",
    "    app.run(debug=True)\n"
   ]
  },
  {
   "cell_type": "code",
   "execution_count": 3,
   "id": "33672be2-81f9-4fa5-8dae-4a20fb187be1",
   "metadata": {},
   "outputs": [
    {
     "name": "stderr",
     "output_type": "stream",
     "text": [
      "[NbConvertApp] Converting notebook app.ipynb to script\n",
      "[NbConvertApp] Writing 2298 bytes to app.py\n"
     ]
    }
   ],
   "source": [
    "!jupyter nbconvert --to script app.ipynb"
   ]
  },
  {
   "cell_type": "code",
   "execution_count": 4,
   "id": "c7303b8b-302a-48a2-adf0-478be7939c43",
   "metadata": {},
   "outputs": [
    {
     "name": "stdout",
     "output_type": "stream",
     "text": [
      "['.ipynb_checkpoints', 'app.ipynb', 'app.py', 'app.py.py', 'data_prep.ipynb', 'head_to_head_stats.csv', 'match_predictor.ipynb', 'match_predictor.pkl', 'premier_league_2023_24.csv', 'test_flask.ipynb']\n"
     ]
    }
   ],
   "source": [
    "import os\n",
    "print(os.listdir())  # Lists all files in the directory"
   ]
  },
  {
   "cell_type": "code",
   "execution_count": null,
   "id": "67b22fbf-457d-4e75-a5bc-c794e7bf0147",
   "metadata": {},
   "outputs": [],
   "source": []
  }
 ],
 "metadata": {
  "kernelspec": {
   "display_name": "Python 3 (ipykernel)",
   "language": "python",
   "name": "python3"
  },
  "language_info": {
   "codemirror_mode": {
    "name": "ipython",
    "version": 3
   },
   "file_extension": ".py",
   "mimetype": "text/x-python",
   "name": "python",
   "nbconvert_exporter": "python",
   "pygments_lexer": "ipython3",
   "version": "3.13.1"
  }
 },
 "nbformat": 4,
 "nbformat_minor": 5
}
