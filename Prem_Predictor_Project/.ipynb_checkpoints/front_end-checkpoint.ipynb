{
 "cells": [
  {
   "cell_type": "code",
   "execution_count": 8,
   "id": "4efad0e1-34c0-46a2-afae-3fb7d60911f5",
   "metadata": {},
   "outputs": [
    {
     "name": "stdout",
     "output_type": "stream",
     "text": [
      "index.html has been saved! Open it in your browser.\n"
     ]
    }
   ],
   "source": [
    "html_code = \"\"\"\n",
    "<!DOCTYPE html>\n",
    "<html lang=\"en\">\n",
    "<head>\n",
    "    <meta charset=\"UTF-8\">\n",
    "    <meta name=\"viewport\" content=\"width=device-width, initial-scale=1.0\">\n",
    "    <title>Premier League Match Predictor</title>\n",
    "    <style>\n",
    "        body { font-family: Arial, sans-serif; text-align: center; padding: 20px; }\n",
    "        select, button { padding: 10px; font-size: 16px; margin: 10px; }\n",
    "        #result { font-size: 20px; font-weight: bold; margin-top: 20px; }\n",
    "    </style>\n",
    "</head>\n",
    "<body>\n",
    "    <h1>Premier League Match Predictor</h1>\n",
    "\n",
    "    <label for=\"home_team\">Home Team:</label>\n",
    "    <select id=\"home_team\">\n",
    "        <option value=\"Arsenal\">Arsenal</option>\n",
    "        <option value=\"Aston Villa\">Aston Villa</option>\n",
    "        <option value=\"Bournemouth\">Bournemouth</option>\n",
    "        <option value=\"Brentford\">Brentford</option>\n",
    "        <option value=\"Brighton\">Brighton</option>\n",
    "        <option value=\"Chelsea\">Chelsea</option>\n",
    "        <option value=\"Crystal Palace\">Crystal Palace</option>\n",
    "        <option value=\"Everton\">Everton</option>\n",
    "        <option value=\"Fulham\">Fulham</option>\n",
    "        <option value=\"Liverpool\">Liverpool</option>\n",
    "        <option value=\"Luton Town\">Luton Town</option>\n",
    "        <option value=\"Manchester City\">Manchester City</option>\n",
    "        <option value=\"Manchester United\">Manchester United</option>\n",
    "        <option value=\"Newcastle United\">Newcastle United</option>\n",
    "        <option value=\"Nottingham Forest\">Nottingham Forest</option>\n",
    "        <option value=\"Sheffield United\">Sheffield United</option>\n",
    "        <option value=\"Tottenham\">Tottenham</option>\n",
    "        <option value=\"West Ham United\">West Ham United</option>\n",
    "        <option value=\"Wolverhampton\">Wolverhampton</option>\n",
    "    </select>\n",
    "\n",
    "    <label for=\"away_team\">Away Team:</label>\n",
    "    <select id=\"away_team\">\n",
    "        <option value=\"Arsenal\">Arsenal</option>\n",
    "        <option value=\"Aston Villa\">Aston Villa</option>\n",
    "        <option value=\"Bournemouth\">Bournemouth</option>\n",
    "        <option value=\"Brentford\">Brentford</option>\n",
    "        <option value=\"Brighton\">Brighton</option>\n",
    "        <option value=\"Chelsea\">Chelsea</option>\n",
    "        <option value=\"Crystal Palace\">Crystal Palace</option>\n",
    "        <option value=\"Everton\">Everton</option>\n",
    "        <option value=\"Fulham\">Fulham</option>\n",
    "        <option value=\"Liverpool\">Liverpool</option>\n",
    "        <option value=\"Luton Town\">Luton Town</option>\n",
    "        <option value=\"Manchester City\">Manchester City</option>\n",
    "        <option value=\"Manchester United\">Manchester United</option>\n",
    "        <option value=\"Newcastle United\">Newcastle United</option>\n",
    "        <option value=\"Nottingham Forest\">Nottingham Forest</option>\n",
    "        <option value=\"Sheffield United\">Sheffield United</option>\n",
    "        <option value=\"Tottenham Hotspur\">Tottenham Hotspur</option>\n",
    "        <option value=\"West Ham United\">West Ham United</option>\n",
    "        <option value=\"Wolverhampton\">Wolverhampton</option>\n",
    "    </select>\n",
    "\n",
    "    <br>\n",
    "    <button onclick=\"getPrediction()\">Predict Match</button>\n",
    "\n",
    "    <p id=\"result\"></p>\n",
    "\n",
    "    <script>\n",
    "        function getPrediction() {\n",
    "            var homeTeam = document.getElementById(\"home_team\").value;\n",
    "            var awayTeam = document.getElementById(\"away_team\").value;\n",
    "\n",
    "            fetch(\"/predict\", {\n",
    "                method: \"POST\",\n",
    "                headers: { \"Content-Type\": \"application/json\" },\n",
    "                body: JSON.stringify({ home_team: homeTeam, away_team: awayTeam })\n",
    "            })\n",
    "            .then(response => response.json())\n",
    "            .then(data => {\n",
    "                document.getElementById(\"result\").innerText = \"Prediction: \" + data.prediction;\n",
    "            })\n",
    "            .catch(error => {\n",
    "                document.getElementById(\"result\").innerText = \"Error getting prediction!\";\n",
    "            });\n",
    "        }\n",
    "    </script>\n",
    "</body>\n",
    "</html>\n",
    "\"\"\"\n",
    "\n",
    "with open(\"index.html\", \"w\") as file:\n",
    "    file.write(html_code)\n",
    "\n",
    "print(\"index.html has been saved! Open it in your browser.\")"
   ]
  },
  {
   "cell_type": "code",
   "execution_count": 2,
   "id": "28cea23d-5054-4659-9cb3-22dcdf406e78",
   "metadata": {},
   "outputs": [
    {
     "data": {
      "text/plain": [
       "['.ipynb_checkpoints',\n",
       " 'app.ipynb',\n",
       " 'app.py',\n",
       " 'dataset_alteration.ipynb',\n",
       " 'data_prep.ipynb',\n",
       " 'head_to_head_stats.csv',\n",
       " 'index.html',\n",
       " 'match_predictor.ipynb',\n",
       " 'match_predictor.pkl',\n",
       " 'premier_league_2023_24.csv',\n",
       " 'test_model.ipynb',\n",
       " 'Untitled.ipynb']"
      ]
     },
     "execution_count": 2,
     "metadata": {},
     "output_type": "execute_result"
    }
   ],
   "source": [
    "import os\n",
    "os.listdir()"
   ]
  },
  {
   "cell_type": "code",
   "execution_count": null,
   "id": "c18db351-d2b8-4d30-8f7d-c76fa3626550",
   "metadata": {},
   "outputs": [],
   "source": []
  }
 ],
 "metadata": {
  "kernelspec": {
   "display_name": "Python 3 (ipykernel)",
   "language": "python",
   "name": "python3"
  },
  "language_info": {
   "codemirror_mode": {
    "name": "ipython",
    "version": 3
   },
   "file_extension": ".py",
   "mimetype": "text/x-python",
   "name": "python",
   "nbconvert_exporter": "python",
   "pygments_lexer": "ipython3",
   "version": "3.13.1"
  }
 },
 "nbformat": 4,
 "nbformat_minor": 5
}
